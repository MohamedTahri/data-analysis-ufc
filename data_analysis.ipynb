{
 "cells": [
  {
   "cell_type": "markdown",
   "metadata": {},
   "source": [
    "### Get insights from the data\n",
    "\n",
    "##### Table of contents\n",
    "   * [Loading necessary libraries](#loading-necessary-libraries)\n",
    "   * [Fighters hometowns](#figters-hometowns)\n",
    "   * [MMA gyms](#mma-gyms)\n",
    "   * [Octagon debut](#octagon-debut)\n",
    "   * [Fighters age](#figters-age)\n",
    "   * [Fighters with the most significant strikes](#figters-with-the-most-significant-strikes)\n",
    "   * [Takedowns](#takedowns)\n",
    "   * [Way of winning](#way-of-winning)\n",
    "   \n",
    "  \n",
    " "
   ]
  },
  {
   "cell_type": "markdown",
   "metadata": {},
   "source": [
    "#### Loading necessary libraries <a class=\"anchor\" id=\"loading-necessary-libraries\"></a>"
   ]
  },
  {
   "cell_type": "code",
   "execution_count": 1,
   "metadata": {},
   "outputs": [],
   "source": [
    "# libraries to easily deal with data\n",
    "import pandas as pd\n",
    "import numpy as np\n",
    "\n",
    "# libraries required for visualization\n",
    "import matplotlib.pyplot as plt\n",
    "import seaborn as sns\n",
    "import plotly.express as px\n",
    "\n",
    "# library required for Geolocation\n",
    "from geopy.exc import GeocoderTimedOut \n",
    "from geopy.geocoders import Nominatim \n",
    "\n",
    "# set up the size and the font size of the charts\n",
    "plt.rcParams['figure.figsize'] = [30, 15]\n",
    "plt.rcParams['font.size'] = 22"
   ]
  },
  {
   "cell_type": "code",
   "execution_count": 2,
   "metadata": {},
   "outputs": [
    {
     "data": {
      "text/html": [
       "<div>\n",
       "<style scoped>\n",
       "    .dataframe tbody tr th:only-of-type {\n",
       "        vertical-align: middle;\n",
       "    }\n",
       "\n",
       "    .dataframe tbody tr th {\n",
       "        vertical-align: top;\n",
       "    }\n",
       "\n",
       "    .dataframe thead th {\n",
       "        text-align: right;\n",
       "    }\n",
       "</style>\n",
       "<table border=\"1\" class=\"dataframe\">\n",
       "  <thead>\n",
       "    <tr style=\"text-align: right;\">\n",
       "      <th></th>\n",
       "      <th>Athlete</th>\n",
       "      <th>Status</th>\n",
       "      <th>Hometown</th>\n",
       "      <th>Age</th>\n",
       "      <th>Height</th>\n",
       "      <th>Weight</th>\n",
       "      <th>Octagon Debut</th>\n",
       "      <th>Reach</th>\n",
       "      <th>Leg reach</th>\n",
       "      <th>Sig.str by target : HEAD</th>\n",
       "      <th>...</th>\n",
       "      <th>Average fight time</th>\n",
       "      <th>Sig. Strikes Landed</th>\n",
       "      <th>Sig. Strikes Attempted</th>\n",
       "      <th>Takedowns Landed</th>\n",
       "      <th>Takedowns Attempted</th>\n",
       "      <th>Wins by Decision</th>\n",
       "      <th>Trains at</th>\n",
       "      <th>First Round Finishes</th>\n",
       "      <th>Fighting style</th>\n",
       "      <th>Title Defenses</th>\n",
       "    </tr>\n",
       "  </thead>\n",
       "  <tbody>\n",
       "    <tr>\n",
       "      <td>0</td>\n",
       "      <td>aalon-cruz</td>\n",
       "      <td>Active</td>\n",
       "      <td>Parrish, United States</td>\n",
       "      <td>30</td>\n",
       "      <td>72.0</td>\n",
       "      <td>145.0</td>\n",
       "      <td>Jul. 30, 2019</td>\n",
       "      <td>78.0</td>\n",
       "      <td>42.0</td>\n",
       "      <td>0</td>\n",
       "      <td>...</td>\n",
       "      <td>NaN</td>\n",
       "      <td>0</td>\n",
       "      <td>0</td>\n",
       "      <td>0</td>\n",
       "      <td>0</td>\n",
       "      <td>0</td>\n",
       "      <td>NaN</td>\n",
       "      <td>0</td>\n",
       "      <td>NaN</td>\n",
       "      <td>0</td>\n",
       "    </tr>\n",
       "    <tr>\n",
       "      <td>1</td>\n",
       "      <td>aaron-phillips</td>\n",
       "      <td>Active</td>\n",
       "      <td>Houston, United States</td>\n",
       "      <td>30</td>\n",
       "      <td>69.0</td>\n",
       "      <td>135.0</td>\n",
       "      <td>May. 24, 2014</td>\n",
       "      <td>70.0</td>\n",
       "      <td>41.0</td>\n",
       "      <td>28</td>\n",
       "      <td>...</td>\n",
       "      <td>15:00</td>\n",
       "      <td>56</td>\n",
       "      <td>94</td>\n",
       "      <td>0</td>\n",
       "      <td>1</td>\n",
       "      <td>0</td>\n",
       "      <td>NaN</td>\n",
       "      <td>0</td>\n",
       "      <td>NaN</td>\n",
       "      <td>0</td>\n",
       "    </tr>\n",
       "  </tbody>\n",
       "</table>\n",
       "<p>2 rows × 35 columns</p>\n",
       "</div>"
      ],
      "text/plain": [
       "          Athlete  Status                Hometown  Age  Height  Weight  \\\n",
       "0      aalon-cruz  Active  Parrish, United States   30    72.0   145.0   \n",
       "1  aaron-phillips  Active  Houston, United States   30    69.0   135.0   \n",
       "\n",
       "   Octagon Debut  Reach  Leg reach  Sig.str by target : HEAD  ...  \\\n",
       "0  Jul. 30, 2019   78.0       42.0                         0  ...   \n",
       "1  May. 24, 2014   70.0       41.0                        28  ...   \n",
       "\n",
       "   Average fight time  Sig. Strikes Landed  Sig. Strikes Attempted  \\\n",
       "0                 NaN                    0                       0   \n",
       "1               15:00                   56                      94   \n",
       "\n",
       "   Takedowns Landed  Takedowns Attempted Wins by Decision  Trains at  \\\n",
       "0                 0                    0                0        NaN   \n",
       "1                 0                    1                0        NaN   \n",
       "\n",
       "   First Round Finishes  Fighting style  Title Defenses  \n",
       "0                     0             NaN               0  \n",
       "1                     0             NaN               0  \n",
       "\n",
       "[2 rows x 35 columns]"
      ]
     },
     "execution_count": 2,
     "metadata": {},
     "output_type": "execute_result"
    }
   ],
   "source": [
    "df = pd.read_csv('prep_data.csv')\n",
    "df.head(2)"
   ]
  },
  {
   "cell_type": "markdown",
   "metadata": {},
   "source": [
    "#### Fighters hometowns <a class=\"anchor\" id=\"figters-hometowns\"></a>"
   ]
  },
  {
   "cell_type": "code",
   "execution_count": 3,
   "metadata": {},
   "outputs": [],
   "source": [
    "df_hometown = pd.DataFrame() # empty dataframe to store hometowns, latitude and longitude\n",
    "df_hometown['Hometown'] = df['Hometown'].dropna() # drop rows with missing values"
   ]
  },
  {
   "cell_type": "code",
   "execution_count": 4,
   "metadata": {},
   "outputs": [],
   "source": [
    "longitude = [] # empty list to store latitude\n",
    "latitude = []  # empty list to store longtude\n",
    "   \n",
    "# function to find the coordinate of a given city \n",
    "def hometownGeocode(hometown): \n",
    "         \n",
    "    try: \n",
    "          \n",
    "        # User_Agent is an http request header that is sent with each request\n",
    "        # Nominatim asks that the user_agent also contains your email address    \n",
    "        geolocator = Nominatim(user_agent=\"your_app_name\") \n",
    "          \n",
    "        return geolocator.geocode(hometown)                    \n",
    "      \n",
    "    except GeocoderTimedOut: \n",
    "          \n",
    "        return findGeocode(hometown)     \n",
    "  \n",
    "    \n",
    "for hometown in df_hometown: \n",
    "      \n",
    "    if hometownGeocode(hometown) != None: \n",
    "           \n",
    "        loc = hometownGeocode(hometown)  \n",
    "        latitude.append(loc.latitude) \n",
    "        longitude.append(loc.longitude) \n",
    "        \n",
    "    else: \n",
    "        latitude.append(np.nan) \n",
    "        longitude.append(np.nan) \n",
    "        \n",
    "df_hometown['latitude'] = latitude\n",
    "df_hometown['longitude'] = longitude"
   ]
  },
  {
   "cell_type": "code",
   "execution_count": 5,
   "metadata": {},
   "outputs": [
    {
     "data": {
      "text/html": [
       "<div>\n",
       "<style scoped>\n",
       "    .dataframe tbody tr th:only-of-type {\n",
       "        vertical-align: middle;\n",
       "    }\n",
       "\n",
       "    .dataframe tbody tr th {\n",
       "        vertical-align: top;\n",
       "    }\n",
       "\n",
       "    .dataframe thead th {\n",
       "        text-align: right;\n",
       "    }\n",
       "</style>\n",
       "<table border=\"1\" class=\"dataframe\">\n",
       "  <thead>\n",
       "    <tr style=\"text-align: right;\">\n",
       "      <th></th>\n",
       "      <th>Hometown</th>\n",
       "      <th>longitude</th>\n",
       "      <th>latitude</th>\n",
       "    </tr>\n",
       "  </thead>\n",
       "  <tbody>\n",
       "    <tr>\n",
       "      <td>0</td>\n",
       "      <td>Parrish, United States</td>\n",
       "      <td>-87.284447</td>\n",
       "      <td>33.730664</td>\n",
       "    </tr>\n",
       "    <tr>\n",
       "      <td>1</td>\n",
       "      <td>Houston, United States</td>\n",
       "      <td>-95.367697</td>\n",
       "      <td>29.758938</td>\n",
       "    </tr>\n",
       "    <tr>\n",
       "      <td>2</td>\n",
       "      <td>Chechnya, Russia</td>\n",
       "      <td>45.698501</td>\n",
       "      <td>43.397615</td>\n",
       "    </tr>\n",
       "    <tr>\n",
       "      <td>3</td>\n",
       "      <td>Accra, Ghana</td>\n",
       "      <td>-0.205744</td>\n",
       "      <td>5.560014</td>\n",
       "    </tr>\n",
       "    <tr>\n",
       "      <td>4</td>\n",
       "      <td>Calvert County, United States</td>\n",
       "      <td>-76.537764</td>\n",
       "      <td>38.528853</td>\n",
       "    </tr>\n",
       "  </tbody>\n",
       "</table>\n",
       "</div>"
      ],
      "text/plain": [
       "                        Hometown  longitude   latitude\n",
       "0         Parrish, United States -87.284447  33.730664\n",
       "1         Houston, United States -95.367697  29.758938\n",
       "2               Chechnya, Russia  45.698501  43.397615\n",
       "3                   Accra, Ghana  -0.205744   5.560014\n",
       "4  Calvert County, United States -76.537764  38.528853"
      ]
     },
     "execution_count": 5,
     "metadata": {},
     "output_type": "execute_result"
    }
   ],
   "source": [
    "df_hometown.head()"
   ]
  },
  {
   "cell_type": "code",
   "execution_count": 6,
   "metadata": {},
   "outputs": [
    {
     "data": {
      "image/png": "[encoded data removed]"
     },
     "metadata": {},
     "output_type": "display_data"
    }
   ],
   "source": [
    "fig = px.scatter_geo(df_hometown,\n",
    "                    lat='latitude',\n",
    "                    lon='longitude',\n",
    "                    hover_name='Hometown',\n",
    "                    projection=\"natural earth\")\n",
    "fig.show('png') # fig.show('png') instead of fig.show() so plotly charts can be displayed when uploading notebook to my github page"
   ]
  },
  {
   "cell_type": "markdown",
   "metadata": {},
   "source": [
    "you will notice that the most fighters are from USA, Brazil, EUROPE compared to other places like AFRICA and ASIA,... Here are some few reasons why :"
   ]
  },
  {
   "cell_type": "markdown",
   "metadata": {},
   "source": [
    "-UFC is an AMERICAN mixed martial arts organization."
   ]
  },
  {
   "cell_type": "markdown",
   "metadata": {},
   "source": [
    "-Brazilian Jiu-Jitsu is one of the most effective individual martial art, this is why Brazil is a booming market for Mixed Martial Arts."
   ]
  },
  {
   "cell_type": "markdown",
   "metadata": {},
   "source": [
    "-The gap in infrastructure and knowledge about MMA."
   ]
  },
  {
   "cell_type": "markdown",
   "metadata": {},
   "source": [
    "#### MMA gyms <a class=\"anchor\" id=\"mma-gyms\"></a>\n",
    "\n",
    "Having the best coaching, training camps,... is very important in MMA, so where ufc fighters train at?"
   ]
  },
  {
   "cell_type": "code",
   "execution_count": 7,
   "metadata": {},
   "outputs": [
    {
     "data": {
      "text/html": [
       "<div>\n",
       "<style scoped>\n",
       "    .dataframe tbody tr th:only-of-type {\n",
       "        vertical-align: middle;\n",
       "    }\n",
       "\n",
       "    .dataframe tbody tr th {\n",
       "        vertical-align: top;\n",
       "    }\n",
       "\n",
       "    .dataframe thead th {\n",
       "        text-align: right;\n",
       "    }\n",
       "</style>\n",
       "<table border=\"1\" class=\"dataframe\">\n",
       "  <thead>\n",
       "    <tr style=\"text-align: right;\">\n",
       "      <th></th>\n",
       "      <th>Trains at</th>\n",
       "      <th>number of fighters</th>\n",
       "    </tr>\n",
       "  </thead>\n",
       "  <tbody>\n",
       "    <tr>\n",
       "      <td>16</td>\n",
       "      <td>American Top Team ATT Coconut Creek, FL</td>\n",
       "      <td>23</td>\n",
       "    </tr>\n",
       "    <tr>\n",
       "      <td>85</td>\n",
       "      <td>Jackson Wink MMA Academy - NM</td>\n",
       "      <td>18</td>\n",
       "    </tr>\n",
       "    <tr>\n",
       "      <td>171</td>\n",
       "      <td>Team Alpha Male  (Urijah Faber's Ultimate Fitn...</td>\n",
       "      <td>8</td>\n",
       "    </tr>\n",
       "    <tr>\n",
       "      <td>3</td>\n",
       "      <td>AKA (American Kickboxing Academy) San Jose</td>\n",
       "      <td>7</td>\n",
       "    </tr>\n",
       "    <tr>\n",
       "      <td>26</td>\n",
       "      <td>Blackzilians - Boca Raton, FL</td>\n",
       "      <td>7</td>\n",
       "    </tr>\n",
       "    <tr>\n",
       "      <td>197</td>\n",
       "      <td>Tristar Gym - Montreal</td>\n",
       "      <td>7</td>\n",
       "    </tr>\n",
       "    <tr>\n",
       "      <td>91</td>\n",
       "      <td>Kings MMA - Huntington Beach, CA</td>\n",
       "      <td>6</td>\n",
       "    </tr>\n",
       "    <tr>\n",
       "      <td>211</td>\n",
       "      <td>Xtreme Couture - Las Vegas, NV</td>\n",
       "      <td>5</td>\n",
       "    </tr>\n",
       "    <tr>\n",
       "      <td>10</td>\n",
       "      <td>Alliance MMA - Chula Vista</td>\n",
       "      <td>4</td>\n",
       "    </tr>\n",
       "    <tr>\n",
       "      <td>189</td>\n",
       "      <td>Tiger Muay Thai - Phuket, Thailand</td>\n",
       "      <td>4</td>\n",
       "    </tr>\n",
       "  </tbody>\n",
       "</table>\n",
       "</div>"
      ],
      "text/plain": [
       "                                             Trains at  number of fighters\n",
       "16             American Top Team ATT Coconut Creek, FL                  23\n",
       "85                       Jackson Wink MMA Academy - NM                  18\n",
       "171  Team Alpha Male  (Urijah Faber's Ultimate Fitn...                   8\n",
       "3           AKA (American Kickboxing Academy) San Jose                   7\n",
       "26                       Blackzilians - Boca Raton, FL                   7\n",
       "197                             Tristar Gym - Montreal                   7\n",
       "91                    Kings MMA - Huntington Beach, CA                   6\n",
       "211                     Xtreme Couture - Las Vegas, NV                   5\n",
       "10                          Alliance MMA - Chula Vista                   4\n",
       "189                 Tiger Muay Thai - Phuket, Thailand                   4"
      ]
     },
     "execution_count": 7,
     "metadata": {},
     "output_type": "execute_result"
    }
   ],
   "source": [
    "trains_at_df = df.groupby(['Trains at']).size().reset_index(name='number of fighters').sort_values(by='number of fighters',ascending=False)\n",
    "trains_at_df.head(10) # fighters training at the same gym"
   ]
  },
  {
   "cell_type": "code",
   "execution_count": 8,
   "metadata": {},
   "outputs": [
    {
     "data": {
      "text/plain": [
       "<matplotlib.axes._subplots.AxesSubplot at 0x22afaefc348>"
      ]
     },
     "execution_count": 8,
     "metadata": {},
     "output_type": "execute_result"
    },
    {
     "data": {
      "image/png": "[encoded data removed]",
      "text/plain": [
       "<Figure size 432x288 with 1 Axes>"
      ]
     },
     "metadata": {
      "needs_background": "light"
     },
     "output_type": "display_data"
    }
   ],
   "source": [
    "sns.barplot(x='number of fighters', y='Trains at', data=trains_at_df.head(10), color=\"c\")"
   ]
  },
  {
   "cell_type": "markdown",
   "metadata": {},
   "source": [
    "#### Octagon debut <a class=\"anchor\" id=\"octagon-debut\"></a>"
   ]
  },
  {
   "cell_type": "code",
   "execution_count": 9,
   "metadata": {},
   "outputs": [],
   "source": [
    "df['Octagon Debut'] = pd.to_datetime(df['Octagon Debut']).dt.year"
   ]
  },
  {
   "cell_type": "code",
   "execution_count": 10,
   "metadata": {},
   "outputs": [],
   "source": [
    "debut_df = df.groupby(['Octagon Debut']).size().reset_index(name='number of fighters')"
   ]
  },
  {
   "cell_type": "code",
   "execution_count": 11,
   "metadata": {},
   "outputs": [
    {
     "data": {
      "text/html": [
       "<div>\n",
       "<style scoped>\n",
       "    .dataframe tbody tr th:only-of-type {\n",
       "        vertical-align: middle;\n",
       "    }\n",
       "\n",
       "    .dataframe tbody tr th {\n",
       "        vertical-align: top;\n",
       "    }\n",
       "\n",
       "    .dataframe thead th {\n",
       "        text-align: right;\n",
       "    }\n",
       "</style>\n",
       "<table border=\"1\" class=\"dataframe\">\n",
       "  <thead>\n",
       "    <tr style=\"text-align: right;\">\n",
       "      <th></th>\n",
       "      <th>Octagon Debut</th>\n",
       "      <th>number of fighters</th>\n",
       "    </tr>\n",
       "  </thead>\n",
       "  <tbody>\n",
       "    <tr>\n",
       "      <td>0</td>\n",
       "      <td>1998</td>\n",
       "      <td>1</td>\n",
       "    </tr>\n",
       "    <tr>\n",
       "      <td>1</td>\n",
       "      <td>1999</td>\n",
       "      <td>1</td>\n",
       "    </tr>\n",
       "    <tr>\n",
       "      <td>2</td>\n",
       "      <td>2000</td>\n",
       "      <td>2</td>\n",
       "    </tr>\n",
       "    <tr>\n",
       "      <td>3</td>\n",
       "      <td>2001</td>\n",
       "      <td>3</td>\n",
       "    </tr>\n",
       "    <tr>\n",
       "      <td>4</td>\n",
       "      <td>2002</td>\n",
       "      <td>2</td>\n",
       "    </tr>\n",
       "  </tbody>\n",
       "</table>\n",
       "</div>"
      ],
      "text/plain": [
       "   Octagon Debut  number of fighters\n",
       "0           1998                   1\n",
       "1           1999                   1\n",
       "2           2000                   2\n",
       "3           2001                   3\n",
       "4           2002                   2"
      ]
     },
     "execution_count": 11,
     "metadata": {},
     "output_type": "execute_result"
    }
   ],
   "source": [
    "debut_df.head()"
   ]
  },
  {
   "cell_type": "code",
   "execution_count": 12,
   "metadata": {},
   "outputs": [
    {
     "data": {
      "text/plain": [
       "<matplotlib.collections.PathCollection at 0x22afc24d9c8>"
      ]
     },
     "execution_count": 12,
     "metadata": {},
     "output_type": "execute_result"
    },
    {
     "data": {
      "image/png": "[encoded data removed]",
      "text/plain": [
       "<Figure size 1080x504 with 1 Axes>"
      ]
     },
     "metadata": {
      "needs_background": "light"
     },
     "output_type": "display_data"
    }
   ],
   "source": [
    "plt.figure(figsize=(15,7))\n",
    "plt.ylabel('Number of fighters')\n",
    "plt.xlabel('Octagon debut')\n",
    "plt.title('Number of fighters per year')\n",
    "plt.scatter(debut_df['Octagon Debut'], debut_df['number of fighters'], marker='+')"
   ]
  },
  {
   "cell_type": "markdown",
   "metadata": {},
   "source": [
    "first of all, we can easily spot an outliers value in the right.\\\n",
    "between 2010 and 2020, UFC's signings incredibly increased ! which means that they started to make a good Revenue. "
   ]
  },
  {
   "cell_type": "markdown",
   "metadata": {},
   "source": [
    "#### Fighters age <a class=\"anchor\" id=\"figters-age\"></a>"
   ]
  },
  {
   "cell_type": "code",
   "execution_count": 13,
   "metadata": {},
   "outputs": [],
   "source": [
    "ages_df = df[df['Status'] == 'Active'][['Athlete','Age']] # keep the active fighters only"
   ]
  },
  {
   "cell_type": "markdown",
   "metadata": {},
   "source": [
    "The oldest fighter is :"
   ]
  },
  {
   "cell_type": "code",
   "execution_count": 14,
   "metadata": {},
   "outputs": [
    {
     "data": {
      "text/html": [
       "<div>\n",
       "<style scoped>\n",
       "    .dataframe tbody tr th:only-of-type {\n",
       "        vertical-align: middle;\n",
       "    }\n",
       "\n",
       "    .dataframe tbody tr th {\n",
       "        vertical-align: top;\n",
       "    }\n",
       "\n",
       "    .dataframe thead th {\n",
       "        text-align: right;\n",
       "    }\n",
       "</style>\n",
       "<table border=\"1\" class=\"dataframe\">\n",
       "  <thead>\n",
       "    <tr style=\"text-align: right;\">\n",
       "      <th></th>\n",
       "      <th>Athlete</th>\n",
       "      <th>Age</th>\n",
       "    </tr>\n",
       "  </thead>\n",
       "  <tbody>\n",
       "    <tr>\n",
       "      <td>59</td>\n",
       "      <td>anderson-silva</td>\n",
       "      <td>45</td>\n",
       "    </tr>\n",
       "  </tbody>\n",
       "</table>\n",
       "</div>"
      ],
      "text/plain": [
       "           Athlete  Age\n",
       "59  anderson-silva   45"
      ]
     },
     "execution_count": 14,
     "metadata": {},
     "output_type": "execute_result"
    }
   ],
   "source": [
    "ages_df[ages_df['Age'] == ages_df['Age'].max()]"
   ]
  },
  {
   "cell_type": "markdown",
   "metadata": {},
   "source": [
    "The youngest fighters are :"
   ]
  },
  {
   "cell_type": "code",
   "execution_count": 15,
   "metadata": {},
   "outputs": [
    {
     "data": {
      "text/html": [
       "<div>\n",
       "<style scoped>\n",
       "    .dataframe tbody tr th:only-of-type {\n",
       "        vertical-align: middle;\n",
       "    }\n",
       "\n",
       "    .dataframe tbody tr th {\n",
       "        vertical-align: top;\n",
       "    }\n",
       "\n",
       "    .dataframe thead th {\n",
       "        text-align: right;\n",
       "    }\n",
       "</style>\n",
       "<table border=\"1\" class=\"dataframe\">\n",
       "  <thead>\n",
       "    <tr style=\"text-align: right;\">\n",
       "      <th></th>\n",
       "      <th>Athlete</th>\n",
       "      <th>Age</th>\n",
       "    </tr>\n",
       "  </thead>\n",
       "  <tbody>\n",
       "    <tr>\n",
       "      <td>158</td>\n",
       "      <td>chanmi-jeon</td>\n",
       "      <td>21</td>\n",
       "    </tr>\n",
       "    <tr>\n",
       "      <td>165</td>\n",
       "      <td>chase-hooper</td>\n",
       "      <td>21</td>\n",
       "    </tr>\n",
       "    <tr>\n",
       "      <td>194</td>\n",
       "      <td>cory-mckenna</td>\n",
       "      <td>21</td>\n",
       "    </tr>\n",
       "    <tr>\n",
       "      <td>501</td>\n",
       "      <td>kay-hansen</td>\n",
       "      <td>21</td>\n",
       "    </tr>\n",
       "    <tr>\n",
       "      <td>630</td>\n",
       "      <td>maycee-barber</td>\n",
       "      <td>21</td>\n",
       "    </tr>\n",
       "    <tr>\n",
       "      <td>673</td>\n",
       "      <td>naoki-inoue</td>\n",
       "      <td>21</td>\n",
       "    </tr>\n",
       "  </tbody>\n",
       "</table>\n",
       "</div>"
      ],
      "text/plain": [
       "           Athlete  Age\n",
       "158    chanmi-jeon   21\n",
       "165   chase-hooper   21\n",
       "194   cory-mckenna   21\n",
       "501     kay-hansen   21\n",
       "630  maycee-barber   21\n",
       "673    naoki-inoue   21"
      ]
     },
     "execution_count": 15,
     "metadata": {},
     "output_type": "execute_result"
    }
   ],
   "source": [
    "ages_df[ages_df['Age'] == ages_df['Age'].min()]"
   ]
  },
  {
   "cell_type": "code",
   "execution_count": 16,
   "metadata": {},
   "outputs": [
    {
     "name": "stdout",
     "output_type": "stream",
     "text": [
      "the average age of a fighter is : 30.712100139082057\n"
     ]
    }
   ],
   "source": [
    "print('the average age of a fighter is : {}'.format(ages_df['Age'].mean()))"
   ]
  },
  {
   "cell_type": "code",
   "execution_count": 17,
   "metadata": {},
   "outputs": [
    {
     "name": "stdout",
     "output_type": "stream",
     "text": [
      "the standard deviation : 4.182368604410846\n"
     ]
    }
   ],
   "source": [
    "print('the standard deviation : {}'.format(ages_df['Age'].std()))"
   ]
  },
  {
   "cell_type": "code",
   "execution_count": 18,
   "metadata": {},
   "outputs": [
    {
     "data": {
      "text/plain": [
       "<seaborn.axisgrid.FacetGrid at 0x22afc4bacc8>"
      ]
     },
     "execution_count": 18,
     "metadata": {},
     "output_type": "execute_result"
    },
    {
     "data": {
      "image/png": "[encoded data removed]",
      "text/plain": [
       "<Figure size 360x360 with 1 Axes>"
      ]
     },
     "metadata": {
      "needs_background": "light"
     },
     "output_type": "display_data"
    }
   ],
   "source": [
    "sns.displot(ages_df['Age'])"
   ]
  },
  {
   "cell_type": "markdown",
   "metadata": {},
   "source": [
    "Let's create a new column of age_bins via defining bin edges : [20,25,30,35,40,45]"
   ]
  },
  {
   "cell_type": "code",
   "execution_count": 19,
   "metadata": {},
   "outputs": [],
   "source": [
    "ages_df['age_bins'] = pd.cut(x=ages_df['Age'], bins=[20, 25, 30, 35,40,45])"
   ]
  },
  {
   "cell_type": "code",
   "execution_count": 20,
   "metadata": {},
   "outputs": [
    {
     "data": {
      "text/html": [
       "<div>\n",
       "<style scoped>\n",
       "    .dataframe tbody tr th:only-of-type {\n",
       "        vertical-align: middle;\n",
       "    }\n",
       "\n",
       "    .dataframe tbody tr th {\n",
       "        vertical-align: top;\n",
       "    }\n",
       "\n",
       "    .dataframe thead th {\n",
       "        text-align: right;\n",
       "    }\n",
       "</style>\n",
       "<table border=\"1\" class=\"dataframe\">\n",
       "  <thead>\n",
       "    <tr style=\"text-align: right;\">\n",
       "      <th></th>\n",
       "      <th>Athlete</th>\n",
       "      <th>Age</th>\n",
       "      <th>age_bins</th>\n",
       "    </tr>\n",
       "  </thead>\n",
       "  <tbody>\n",
       "    <tr>\n",
       "      <td>0</td>\n",
       "      <td>aalon-cruz</td>\n",
       "      <td>30</td>\n",
       "      <td>(25, 30]</td>\n",
       "    </tr>\n",
       "    <tr>\n",
       "      <td>1</td>\n",
       "      <td>aaron-phillips</td>\n",
       "      <td>30</td>\n",
       "      <td>(25, 30]</td>\n",
       "    </tr>\n",
       "    <tr>\n",
       "      <td>3</td>\n",
       "      <td>abdul-razak-alhassan</td>\n",
       "      <td>35</td>\n",
       "      <td>(30, 35]</td>\n",
       "    </tr>\n",
       "    <tr>\n",
       "      <td>4</td>\n",
       "      <td>abu-azaitar</td>\n",
       "      <td>36</td>\n",
       "      <td>(35, 40]</td>\n",
       "    </tr>\n",
       "    <tr>\n",
       "      <td>5</td>\n",
       "      <td>adam-milstead</td>\n",
       "      <td>31</td>\n",
       "      <td>(30, 35]</td>\n",
       "    </tr>\n",
       "  </tbody>\n",
       "</table>\n",
       "</div>"
      ],
      "text/plain": [
       "                Athlete  Age  age_bins\n",
       "0            aalon-cruz   30  (25, 30]\n",
       "1        aaron-phillips   30  (25, 30]\n",
       "3  abdul-razak-alhassan   35  (30, 35]\n",
       "4           abu-azaitar   36  (35, 40]\n",
       "5         adam-milstead   31  (30, 35]"
      ]
     },
     "execution_count": 20,
     "metadata": {},
     "output_type": "execute_result"
    }
   ],
   "source": [
    "ages_df.head()"
   ]
  },
  {
   "cell_type": "code",
   "execution_count": 21,
   "metadata": {},
   "outputs": [
    {
     "data": {
      "text/html": [
       "<div>\n",
       "<style scoped>\n",
       "    .dataframe tbody tr th:only-of-type {\n",
       "        vertical-align: middle;\n",
       "    }\n",
       "\n",
       "    .dataframe tbody tr th {\n",
       "        vertical-align: top;\n",
       "    }\n",
       "\n",
       "    .dataframe thead th {\n",
       "        text-align: right;\n",
       "    }\n",
       "</style>\n",
       "<table border=\"1\" class=\"dataframe\">\n",
       "  <thead>\n",
       "    <tr style=\"text-align: right;\">\n",
       "      <th></th>\n",
       "      <th>age_bins</th>\n",
       "      <th>counts</th>\n",
       "      <th>percentage</th>\n",
       "    </tr>\n",
       "  </thead>\n",
       "  <tbody>\n",
       "    <tr>\n",
       "      <td>1</td>\n",
       "      <td>(25, 30]</td>\n",
       "      <td>290</td>\n",
       "      <td>40.33</td>\n",
       "    </tr>\n",
       "    <tr>\n",
       "      <td>2</td>\n",
       "      <td>(30, 35]</td>\n",
       "      <td>264</td>\n",
       "      <td>36.72</td>\n",
       "    </tr>\n",
       "    <tr>\n",
       "      <td>3</td>\n",
       "      <td>(35, 40]</td>\n",
       "      <td>82</td>\n",
       "      <td>11.40</td>\n",
       "    </tr>\n",
       "    <tr>\n",
       "      <td>0</td>\n",
       "      <td>(20, 25]</td>\n",
       "      <td>71</td>\n",
       "      <td>9.87</td>\n",
       "    </tr>\n",
       "    <tr>\n",
       "      <td>4</td>\n",
       "      <td>(40, 45]</td>\n",
       "      <td>12</td>\n",
       "      <td>1.67</td>\n",
       "    </tr>\n",
       "  </tbody>\n",
       "</table>\n",
       "</div>"
      ],
      "text/plain": [
       "   age_bins  counts  percentage\n",
       "1  (25, 30]     290       40.33\n",
       "2  (30, 35]     264       36.72\n",
       "3  (35, 40]      82       11.40\n",
       "0  (20, 25]      71        9.87\n",
       "4  (40, 45]      12        1.67"
      ]
     },
     "execution_count": 21,
     "metadata": {},
     "output_type": "execute_result"
    }
   ],
   "source": [
    "df_bins = ages_df.groupby(['age_bins']).size().reset_index(name='counts').sort_values(by='counts',ascending=False)\n",
    "df_bins['percentage'] = df_bins['counts'].apply(lambda x: x / df_bins['counts'].sum() * 100).round(2)\n",
    "df_bins"
   ]
  },
  {
   "cell_type": "code",
   "execution_count": 22,
   "metadata": {},
   "outputs": [
    {
     "data": {
      "image/png": "[encoded data removed]",
      "text/plain": [
       "<Figure size 720x432 with 1 Axes>"
      ]
     },
     "metadata": {},
     "output_type": "display_data"
    }
   ],
   "source": [
    "sns.set_style(\"whitegrid\")\n",
    "bar,ax = plt.subplots(figsize=(10,6))\n",
    "ax = sns.barplot(x='age_bins', y='percentage', data=df_bins, ci=None, palette=\"muted\",orient='v', )\n",
    "ax.set_title(\"Fighters age\", fontsize=15)\n",
    "ax.set_xlabel (\"bins\")\n",
    "ax.set_ylabel (\"Percentage\")\n",
    "# calculate the percentages and annotate the sns barplot\n",
    "for rect in ax.patches:\n",
    "    ax.text (rect.get_x() + rect.get_width() / 2,rect.get_height(),\"%.1f%%\"% rect.get_height(), weight='bold' )"
   ]
  },
  {
   "cell_type": "markdown",
   "metadata": {},
   "source": [
    "The majority of fighters are between [25,35] years old (77%), it's the fighter's prime!"
   ]
  },
  {
   "cell_type": "markdown",
   "metadata": {},
   "source": [
    "#### Fighters with the most significant strikes  <a class=\"anchor\" id=\"figters-with-the-most-significant-strikes\"></a>\n",
    "\n",
    "Top10 fighters with the highest significant strikes :"
   ]
  },
  {
   "cell_type": "code",
   "execution_count": 23,
   "metadata": {},
   "outputs": [
    {
     "data": {
      "text/html": [
       "<div>\n",
       "<style scoped>\n",
       "    .dataframe tbody tr th:only-of-type {\n",
       "        vertical-align: middle;\n",
       "    }\n",
       "\n",
       "    .dataframe tbody tr th {\n",
       "        vertical-align: top;\n",
       "    }\n",
       "\n",
       "    .dataframe thead th {\n",
       "        text-align: right;\n",
       "    }\n",
       "</style>\n",
       "<table border=\"1\" class=\"dataframe\">\n",
       "  <thead>\n",
       "    <tr style=\"text-align: right;\">\n",
       "      <th></th>\n",
       "      <th>Athlete</th>\n",
       "      <th>Sig. Strikes Landed</th>\n",
       "    </tr>\n",
       "  </thead>\n",
       "  <tbody>\n",
       "    <tr>\n",
       "      <td>627</td>\n",
       "      <td>max-holloway</td>\n",
       "      <td>2071</td>\n",
       "    </tr>\n",
       "    <tr>\n",
       "      <td>261</td>\n",
       "      <td>donald-cerrone</td>\n",
       "      <td>1895</td>\n",
       "    </tr>\n",
       "    <tr>\n",
       "      <td>307</td>\n",
       "      <td>frankie-edgar</td>\n",
       "      <td>1568</td>\n",
       "    </tr>\n",
       "    <tr>\n",
       "      <td>676</td>\n",
       "      <td>nate-diaz</td>\n",
       "      <td>1482</td>\n",
       "    </tr>\n",
       "    <tr>\n",
       "      <td>443</td>\n",
       "      <td>jon-jones</td>\n",
       "      <td>1463</td>\n",
       "    </tr>\n",
       "    <tr>\n",
       "      <td>733</td>\n",
       "      <td>rafael-dos-anjos</td>\n",
       "      <td>1401</td>\n",
       "    </tr>\n",
       "    <tr>\n",
       "      <td>419</td>\n",
       "      <td>joanna-jedrzejczyk</td>\n",
       "      <td>1345</td>\n",
       "    </tr>\n",
       "    <tr>\n",
       "      <td>397</td>\n",
       "      <td>jeremy-stephens</td>\n",
       "      <td>1234</td>\n",
       "    </tr>\n",
       "    <tr>\n",
       "      <td>296</td>\n",
       "      <td>evan-dunham</td>\n",
       "      <td>1228</td>\n",
       "    </tr>\n",
       "    <tr>\n",
       "      <td>200</td>\n",
       "      <td>cub-swanson</td>\n",
       "      <td>1225</td>\n",
       "    </tr>\n",
       "  </tbody>\n",
       "</table>\n",
       "</div>"
      ],
      "text/plain": [
       "                Athlete  Sig. Strikes Landed\n",
       "627        max-holloway                 2071\n",
       "261      donald-cerrone                 1895\n",
       "307       frankie-edgar                 1568\n",
       "676           nate-diaz                 1482\n",
       "443           jon-jones                 1463\n",
       "733    rafael-dos-anjos                 1401\n",
       "419  joanna-jedrzejczyk                 1345\n",
       "397     jeremy-stephens                 1234\n",
       "296         evan-dunham                 1228\n",
       "200         cub-swanson                 1225"
      ]
     },
     "execution_count": 23,
     "metadata": {},
     "output_type": "execute_result"
    }
   ],
   "source": [
    "df[['Athlete','Sig. Strikes Landed']].sort_values(by='Sig. Strikes Landed',ascending=False).head(10)"
   ]
  },
  {
   "cell_type": "markdown",
   "metadata": {},
   "source": [
    "Top10 fighters with the highest significant strikes to the head :"
   ]
  },
  {
   "cell_type": "code",
   "execution_count": 24,
   "metadata": {},
   "outputs": [
    {
     "data": {
      "text/html": [
       "<div>\n",
       "<style scoped>\n",
       "    .dataframe tbody tr th:only-of-type {\n",
       "        vertical-align: middle;\n",
       "    }\n",
       "\n",
       "    .dataframe tbody tr th {\n",
       "        vertical-align: top;\n",
       "    }\n",
       "\n",
       "    .dataframe thead th {\n",
       "        text-align: right;\n",
       "    }\n",
       "</style>\n",
       "<table border=\"1\" class=\"dataframe\">\n",
       "  <thead>\n",
       "    <tr style=\"text-align: right;\">\n",
       "      <th></th>\n",
       "      <th>Athlete</th>\n",
       "      <th>Sig.str by target : HEAD</th>\n",
       "    </tr>\n",
       "  </thead>\n",
       "  <tbody>\n",
       "    <tr>\n",
       "      <td>627</td>\n",
       "      <td>max-holloway</td>\n",
       "      <td>1529</td>\n",
       "    </tr>\n",
       "    <tr>\n",
       "      <td>676</td>\n",
       "      <td>nate-diaz</td>\n",
       "      <td>1114</td>\n",
       "    </tr>\n",
       "    <tr>\n",
       "      <td>296</td>\n",
       "      <td>evan-dunham</td>\n",
       "      <td>1039</td>\n",
       "    </tr>\n",
       "    <tr>\n",
       "      <td>307</td>\n",
       "      <td>frankie-edgar</td>\n",
       "      <td>1030</td>\n",
       "    </tr>\n",
       "    <tr>\n",
       "      <td>261</td>\n",
       "      <td>donald-cerrone</td>\n",
       "      <td>966</td>\n",
       "    </tr>\n",
       "    <tr>\n",
       "      <td>277</td>\n",
       "      <td>dustin-poirier</td>\n",
       "      <td>894</td>\n",
       "    </tr>\n",
       "    <tr>\n",
       "      <td>762</td>\n",
       "      <td>robbie-lawler</td>\n",
       "      <td>833</td>\n",
       "    </tr>\n",
       "    <tr>\n",
       "      <td>733</td>\n",
       "      <td>rafael-dos-anjos</td>\n",
       "      <td>789</td>\n",
       "    </tr>\n",
       "    <tr>\n",
       "      <td>200</td>\n",
       "      <td>cub-swanson</td>\n",
       "      <td>758</td>\n",
       "    </tr>\n",
       "    <tr>\n",
       "      <td>682</td>\n",
       "      <td>neil-magny</td>\n",
       "      <td>741</td>\n",
       "    </tr>\n",
       "  </tbody>\n",
       "</table>\n",
       "</div>"
      ],
      "text/plain": [
       "              Athlete  Sig.str by target : HEAD\n",
       "627      max-holloway                      1529\n",
       "676         nate-diaz                      1114\n",
       "296       evan-dunham                      1039\n",
       "307     frankie-edgar                      1030\n",
       "261    donald-cerrone                       966\n",
       "277    dustin-poirier                       894\n",
       "762     robbie-lawler                       833\n",
       "733  rafael-dos-anjos                       789\n",
       "200       cub-swanson                       758\n",
       "682        neil-magny                       741"
      ]
     },
     "execution_count": 24,
     "metadata": {},
     "output_type": "execute_result"
    }
   ],
   "source": [
    "df[['Athlete','Sig.str by target : HEAD']].sort_values(by='Sig.str by target : HEAD',ascending=False).head(10)"
   ]
  },
  {
   "cell_type": "markdown",
   "metadata": {},
   "source": [
    "Top10 fighters with the highest significant strikes to the body :"
   ]
  },
  {
   "cell_type": "code",
   "execution_count": 25,
   "metadata": {},
   "outputs": [
    {
     "data": {
      "text/html": [
       "<div>\n",
       "<style scoped>\n",
       "    .dataframe tbody tr th:only-of-type {\n",
       "        vertical-align: middle;\n",
       "    }\n",
       "\n",
       "    .dataframe tbody tr th {\n",
       "        vertical-align: top;\n",
       "    }\n",
       "\n",
       "    .dataframe thead th {\n",
       "        text-align: right;\n",
       "    }\n",
       "</style>\n",
       "<table border=\"1\" class=\"dataframe\">\n",
       "  <thead>\n",
       "    <tr style=\"text-align: right;\">\n",
       "      <th></th>\n",
       "      <th>Athlete</th>\n",
       "      <th>Sig.str by target : BODY</th>\n",
       "    </tr>\n",
       "  </thead>\n",
       "  <tbody>\n",
       "    <tr>\n",
       "      <td>261</td>\n",
       "      <td>donald-cerrone</td>\n",
       "      <td>458</td>\n",
       "    </tr>\n",
       "    <tr>\n",
       "      <td>627</td>\n",
       "      <td>max-holloway</td>\n",
       "      <td>429</td>\n",
       "    </tr>\n",
       "    <tr>\n",
       "      <td>480</td>\n",
       "      <td>junior-dos-santos</td>\n",
       "      <td>362</td>\n",
       "    </tr>\n",
       "    <tr>\n",
       "      <td>443</td>\n",
       "      <td>jon-jones</td>\n",
       "      <td>359</td>\n",
       "    </tr>\n",
       "    <tr>\n",
       "      <td>419</td>\n",
       "      <td>joanna-jedrzejczyk</td>\n",
       "      <td>340</td>\n",
       "    </tr>\n",
       "    <tr>\n",
       "      <td>733</td>\n",
       "      <td>rafael-dos-anjos</td>\n",
       "      <td>322</td>\n",
       "    </tr>\n",
       "    <tr>\n",
       "      <td>436</td>\n",
       "      <td>john-lineker</td>\n",
       "      <td>321</td>\n",
       "    </tr>\n",
       "    <tr>\n",
       "      <td>780</td>\n",
       "      <td>ross-pearson</td>\n",
       "      <td>314</td>\n",
       "    </tr>\n",
       "    <tr>\n",
       "      <td>307</td>\n",
       "      <td>frankie-edgar</td>\n",
       "      <td>296</td>\n",
       "    </tr>\n",
       "    <tr>\n",
       "      <td>636</td>\n",
       "      <td>michael-johnson</td>\n",
       "      <td>293</td>\n",
       "    </tr>\n",
       "  </tbody>\n",
       "</table>\n",
       "</div>"
      ],
      "text/plain": [
       "                Athlete  Sig.str by target : BODY\n",
       "261      donald-cerrone                       458\n",
       "627        max-holloway                       429\n",
       "480   junior-dos-santos                       362\n",
       "443           jon-jones                       359\n",
       "419  joanna-jedrzejczyk                       340\n",
       "733    rafael-dos-anjos                       322\n",
       "436        john-lineker                       321\n",
       "780        ross-pearson                       314\n",
       "307       frankie-edgar                       296\n",
       "636     michael-johnson                       293"
      ]
     },
     "execution_count": 25,
     "metadata": {},
     "output_type": "execute_result"
    }
   ],
   "source": [
    "df[['Athlete','Sig.str by target : BODY']].sort_values(by='Sig.str by target : BODY',ascending=False).head(10)"
   ]
  },
  {
   "cell_type": "markdown",
   "metadata": {},
   "source": [
    "Top10 fighters with the highest significant strikes to the legs :"
   ]
  },
  {
   "cell_type": "code",
   "execution_count": 26,
   "metadata": {},
   "outputs": [
    {
     "data": {
      "text/html": [
       "<div>\n",
       "<style scoped>\n",
       "    .dataframe tbody tr th:only-of-type {\n",
       "        vertical-align: middle;\n",
       "    }\n",
       "\n",
       "    .dataframe tbody tr th {\n",
       "        vertical-align: top;\n",
       "    }\n",
       "\n",
       "    .dataframe thead th {\n",
       "        text-align: right;\n",
       "    }\n",
       "</style>\n",
       "<table border=\"1\" class=\"dataframe\">\n",
       "  <thead>\n",
       "    <tr style=\"text-align: right;\">\n",
       "      <th></th>\n",
       "      <th>Athlete</th>\n",
       "      <th>Sig.str by target : LEG</th>\n",
       "    </tr>\n",
       "  </thead>\n",
       "  <tbody>\n",
       "    <tr>\n",
       "      <td>261</td>\n",
       "      <td>donald-cerrone</td>\n",
       "      <td>471</td>\n",
       "    </tr>\n",
       "    <tr>\n",
       "      <td>443</td>\n",
       "      <td>jon-jones</td>\n",
       "      <td>417</td>\n",
       "    </tr>\n",
       "    <tr>\n",
       "      <td>860</td>\n",
       "      <td>thiago-alves</td>\n",
       "      <td>358</td>\n",
       "    </tr>\n",
       "    <tr>\n",
       "      <td>419</td>\n",
       "      <td>joanna-jedrzejczyk</td>\n",
       "      <td>358</td>\n",
       "    </tr>\n",
       "    <tr>\n",
       "      <td>733</td>\n",
       "      <td>rafael-dos-anjos</td>\n",
       "      <td>290</td>\n",
       "    </tr>\n",
       "    <tr>\n",
       "      <td>397</td>\n",
       "      <td>jeremy-stephens</td>\n",
       "      <td>289</td>\n",
       "    </tr>\n",
       "    <tr>\n",
       "      <td>283</td>\n",
       "      <td>edson-barboza</td>\n",
       "      <td>261</td>\n",
       "    </tr>\n",
       "    <tr>\n",
       "      <td>743</td>\n",
       "      <td>raphael-assuncao</td>\n",
       "      <td>258</td>\n",
       "    </tr>\n",
       "    <tr>\n",
       "      <td>307</td>\n",
       "      <td>frankie-edgar</td>\n",
       "      <td>242</td>\n",
       "    </tr>\n",
       "    <tr>\n",
       "      <td>200</td>\n",
       "      <td>cub-swanson</td>\n",
       "      <td>240</td>\n",
       "    </tr>\n",
       "  </tbody>\n",
       "</table>\n",
       "</div>"
      ],
      "text/plain": [
       "                Athlete  Sig.str by target : LEG\n",
       "261      donald-cerrone                      471\n",
       "443           jon-jones                      417\n",
       "860        thiago-alves                      358\n",
       "419  joanna-jedrzejczyk                      358\n",
       "733    rafael-dos-anjos                      290\n",
       "397     jeremy-stephens                      289\n",
       "283       edson-barboza                      261\n",
       "743    raphael-assuncao                      258\n",
       "307       frankie-edgar                      242\n",
       "200         cub-swanson                      240"
      ]
     },
     "execution_count": 26,
     "metadata": {},
     "output_type": "execute_result"
    }
   ],
   "source": [
    "df[['Athlete','Sig.str by target : LEG']].sort_values(by='Sig.str by target : LEG',ascending=False).head(10)"
   ]
  },
  {
   "cell_type": "markdown",
   "metadata": {},
   "source": [
    "Top10 fighters in standing position :"
   ]
  },
  {
   "cell_type": "code",
   "execution_count": 27,
   "metadata": {},
   "outputs": [
    {
     "data": {
      "text/html": [
       "<div>\n",
       "<style scoped>\n",
       "    .dataframe tbody tr th:only-of-type {\n",
       "        vertical-align: middle;\n",
       "    }\n",
       "\n",
       "    .dataframe tbody tr th {\n",
       "        vertical-align: top;\n",
       "    }\n",
       "\n",
       "    .dataframe thead th {\n",
       "        text-align: right;\n",
       "    }\n",
       "</style>\n",
       "<table border=\"1\" class=\"dataframe\">\n",
       "  <thead>\n",
       "    <tr style=\"text-align: right;\">\n",
       "      <th></th>\n",
       "      <th>Athlete</th>\n",
       "      <th>Sig.str : Standing</th>\n",
       "    </tr>\n",
       "  </thead>\n",
       "  <tbody>\n",
       "    <tr>\n",
       "      <td>627</td>\n",
       "      <td>max-holloway</td>\n",
       "      <td>1733</td>\n",
       "    </tr>\n",
       "    <tr>\n",
       "      <td>261</td>\n",
       "      <td>donald-cerrone</td>\n",
       "      <td>1565</td>\n",
       "    </tr>\n",
       "    <tr>\n",
       "      <td>419</td>\n",
       "      <td>joanna-jedrzejczyk</td>\n",
       "      <td>1089</td>\n",
       "    </tr>\n",
       "    <tr>\n",
       "      <td>307</td>\n",
       "      <td>frankie-edgar</td>\n",
       "      <td>1056</td>\n",
       "    </tr>\n",
       "    <tr>\n",
       "      <td>296</td>\n",
       "      <td>evan-dunham</td>\n",
       "      <td>1024</td>\n",
       "    </tr>\n",
       "    <tr>\n",
       "      <td>676</td>\n",
       "      <td>nate-diaz</td>\n",
       "      <td>998</td>\n",
       "    </tr>\n",
       "    <tr>\n",
       "      <td>733</td>\n",
       "      <td>rafael-dos-anjos</td>\n",
       "      <td>958</td>\n",
       "    </tr>\n",
       "    <tr>\n",
       "      <td>25</td>\n",
       "      <td>alex-caceres</td>\n",
       "      <td>958</td>\n",
       "    </tr>\n",
       "    <tr>\n",
       "      <td>443</td>\n",
       "      <td>jon-jones</td>\n",
       "      <td>953</td>\n",
       "    </tr>\n",
       "    <tr>\n",
       "      <td>200</td>\n",
       "      <td>cub-swanson</td>\n",
       "      <td>953</td>\n",
       "    </tr>\n",
       "  </tbody>\n",
       "</table>\n",
       "</div>"
      ],
      "text/plain": [
       "                Athlete  Sig.str : Standing\n",
       "627        max-holloway                1733\n",
       "261      donald-cerrone                1565\n",
       "419  joanna-jedrzejczyk                1089\n",
       "307       frankie-edgar                1056\n",
       "296         evan-dunham                1024\n",
       "676           nate-diaz                 998\n",
       "733    rafael-dos-anjos                 958\n",
       "25         alex-caceres                 958\n",
       "443           jon-jones                 953\n",
       "200         cub-swanson                 953"
      ]
     },
     "execution_count": 27,
     "metadata": {},
     "output_type": "execute_result"
    }
   ],
   "source": [
    "df[['Athlete', 'Sig.str : Standing']].sort_values(by='Sig.str : Standing',ascending=False).head(10)"
   ]
  },
  {
   "cell_type": "markdown",
   "metadata": {},
   "source": [
    "w\n",
    "When you are facing one of these guys, you should brobably avoid standing toe to toe with him. Maybe taking the fight to the ground is a good strategy to work on during the training camp.\n",
    "\n",
    "Top10 clinch fighters  :"
   ]
  },
  {
   "cell_type": "code",
   "execution_count": 28,
   "metadata": {},
   "outputs": [
    {
     "data": {
      "text/html": [
       "<div>\n",
       "<style scoped>\n",
       "    .dataframe tbody tr th:only-of-type {\n",
       "        vertical-align: middle;\n",
       "    }\n",
       "\n",
       "    .dataframe tbody tr th {\n",
       "        vertical-align: top;\n",
       "    }\n",
       "\n",
       "    .dataframe thead th {\n",
       "        text-align: right;\n",
       "    }\n",
       "</style>\n",
       "<table border=\"1\" class=\"dataframe\">\n",
       "  <thead>\n",
       "    <tr style=\"text-align: right;\">\n",
       "      <th></th>\n",
       "      <th>Athlete</th>\n",
       "      <th>Sig.str : Clinch</th>\n",
       "    </tr>\n",
       "  </thead>\n",
       "  <tbody>\n",
       "    <tr>\n",
       "      <td>676</td>\n",
       "      <td>nate-diaz</td>\n",
       "      <td>353</td>\n",
       "    </tr>\n",
       "    <tr>\n",
       "      <td>443</td>\n",
       "      <td>jon-jones</td>\n",
       "      <td>248</td>\n",
       "    </tr>\n",
       "    <tr>\n",
       "      <td>733</td>\n",
       "      <td>rafael-dos-anjos</td>\n",
       "      <td>248</td>\n",
       "    </tr>\n",
       "    <tr>\n",
       "      <td>762</td>\n",
       "      <td>robbie-lawler</td>\n",
       "      <td>244</td>\n",
       "    </tr>\n",
       "    <tr>\n",
       "      <td>419</td>\n",
       "      <td>joanna-jedrzejczyk</td>\n",
       "      <td>240</td>\n",
       "    </tr>\n",
       "    <tr>\n",
       "      <td>442</td>\n",
       "      <td>johny-hendricks</td>\n",
       "      <td>236</td>\n",
       "    </tr>\n",
       "    <tr>\n",
       "      <td>402</td>\n",
       "      <td>jessica-andrade</td>\n",
       "      <td>234</td>\n",
       "    </tr>\n",
       "    <tr>\n",
       "      <td>614</td>\n",
       "      <td>matt-brown</td>\n",
       "      <td>224</td>\n",
       "    </tr>\n",
       "    <tr>\n",
       "      <td>68</td>\n",
       "      <td>angela-hill</td>\n",
       "      <td>219</td>\n",
       "    </tr>\n",
       "    <tr>\n",
       "      <td>277</td>\n",
       "      <td>dustin-poirier</td>\n",
       "      <td>212</td>\n",
       "    </tr>\n",
       "  </tbody>\n",
       "</table>\n",
       "</div>"
      ],
      "text/plain": [
       "                Athlete  Sig.str : Clinch\n",
       "676           nate-diaz               353\n",
       "443           jon-jones               248\n",
       "733    rafael-dos-anjos               248\n",
       "762       robbie-lawler               244\n",
       "419  joanna-jedrzejczyk               240\n",
       "442     johny-hendricks               236\n",
       "402     jessica-andrade               234\n",
       "614          matt-brown               224\n",
       "68          angela-hill               219\n",
       "277      dustin-poirier               212"
      ]
     },
     "execution_count": 28,
     "metadata": {},
     "output_type": "execute_result"
    }
   ],
   "source": [
    "df[['Athlete', 'Sig.str : Clinch']].sort_values(by='Sig.str : Clinch',ascending=False).head(10)"
   ]
  },
  {
   "cell_type": "markdown",
   "metadata": {},
   "source": [
    "If you are facing one of these guys, you must work on ways to escape the clinch during the training camp.\n",
    "\n",
    "\n",
    "Top10 fighters who landed the highest number of significant strikes on the ground :"
   ]
  },
  {
   "cell_type": "code",
   "execution_count": 29,
   "metadata": {},
   "outputs": [
    {
     "data": {
      "text/html": [
       "<div>\n",
       "<style scoped>\n",
       "    .dataframe tbody tr th:only-of-type {\n",
       "        vertical-align: middle;\n",
       "    }\n",
       "\n",
       "    .dataframe tbody tr th {\n",
       "        vertical-align: top;\n",
       "    }\n",
       "\n",
       "    .dataframe thead th {\n",
       "        text-align: right;\n",
       "    }\n",
       "</style>\n",
       "<table border=\"1\" class=\"dataframe\">\n",
       "  <thead>\n",
       "    <tr style=\"text-align: right;\">\n",
       "      <th></th>\n",
       "      <th>Athlete</th>\n",
       "      <th>Sig.str : Ground</th>\n",
       "    </tr>\n",
       "  </thead>\n",
       "  <tbody>\n",
       "    <tr>\n",
       "      <td>307</td>\n",
       "      <td>frankie-edgar</td>\n",
       "      <td>384</td>\n",
       "    </tr>\n",
       "    <tr>\n",
       "      <td>520</td>\n",
       "      <td>khabib-nurmagomedov</td>\n",
       "      <td>368</td>\n",
       "    </tr>\n",
       "    <tr>\n",
       "      <td>253</td>\n",
       "      <td>diego-sanchez</td>\n",
       "      <td>332</td>\n",
       "    </tr>\n",
       "    <tr>\n",
       "      <td>326</td>\n",
       "      <td>glover-teixeira</td>\n",
       "      <td>293</td>\n",
       "    </tr>\n",
       "    <tr>\n",
       "      <td>239</td>\n",
       "      <td>demian-maia</td>\n",
       "      <td>279</td>\n",
       "    </tr>\n",
       "    <tr>\n",
       "      <td>682</td>\n",
       "      <td>neil-magny</td>\n",
       "      <td>274</td>\n",
       "    </tr>\n",
       "    <tr>\n",
       "      <td>518</td>\n",
       "      <td>kevin-lee</td>\n",
       "      <td>269</td>\n",
       "    </tr>\n",
       "    <tr>\n",
       "      <td>139</td>\n",
       "      <td>cain-velasquez</td>\n",
       "      <td>264</td>\n",
       "    </tr>\n",
       "    <tr>\n",
       "      <td>495</td>\n",
       "      <td>kamaru-usman</td>\n",
       "      <td>264</td>\n",
       "    </tr>\n",
       "    <tr>\n",
       "      <td>443</td>\n",
       "      <td>jon-jones</td>\n",
       "      <td>262</td>\n",
       "    </tr>\n",
       "  </tbody>\n",
       "</table>\n",
       "</div>"
      ],
      "text/plain": [
       "                 Athlete  Sig.str : Ground\n",
       "307        frankie-edgar               384\n",
       "520  khabib-nurmagomedov               368\n",
       "253        diego-sanchez               332\n",
       "326      glover-teixeira               293\n",
       "239          demian-maia               279\n",
       "682           neil-magny               274\n",
       "518            kevin-lee               269\n",
       "139       cain-velasquez               264\n",
       "495         kamaru-usman               264\n",
       "443            jon-jones               262"
      ]
     },
     "execution_count": 29,
     "metadata": {},
     "output_type": "execute_result"
    }
   ],
   "source": [
    "df[['Athlete', 'Sig.str : Ground']].sort_values(by='Sig.str : Ground',ascending=False).head(10)"
   ]
  },
  {
   "cell_type": "markdown",
   "metadata": {},
   "source": [
    "If you are facing one of these guys, you must work on your grappling skills, specially the takedown defense during the training camp. You also need to keep the fight as far as possible on the feet.\n",
    "\n",
    "\n",
    "#### Takedowns <a class=\"anchor\" id=\"takedowns\"></a>\n",
    "\n",
    "top10 fighters having the highest number of successful takedowns : "
   ]
  },
  {
   "cell_type": "code",
   "execution_count": 30,
   "metadata": {},
   "outputs": [
    {
     "data": {
      "text/html": [
       "<div>\n",
       "<style scoped>\n",
       "    .dataframe tbody tr th:only-of-type {\n",
       "        vertical-align: middle;\n",
       "    }\n",
       "\n",
       "    .dataframe tbody tr th {\n",
       "        vertical-align: top;\n",
       "    }\n",
       "\n",
       "    .dataframe thead th {\n",
       "        text-align: right;\n",
       "    }\n",
       "</style>\n",
       "<table border=\"1\" class=\"dataframe\">\n",
       "  <thead>\n",
       "    <tr style=\"text-align: right;\">\n",
       "      <th></th>\n",
       "      <th>Athlete</th>\n",
       "      <th>Takedowns Landed</th>\n",
       "    </tr>\n",
       "  </thead>\n",
       "  <tbody>\n",
       "    <tr>\n",
       "      <td>307</td>\n",
       "      <td>frankie-edgar</td>\n",
       "      <td>67</td>\n",
       "    </tr>\n",
       "    <tr>\n",
       "      <td>182</td>\n",
       "      <td>clay-guida</td>\n",
       "      <td>63</td>\n",
       "    </tr>\n",
       "    <tr>\n",
       "      <td>442</td>\n",
       "      <td>johny-hendricks</td>\n",
       "      <td>61</td>\n",
       "    </tr>\n",
       "    <tr>\n",
       "      <td>239</td>\n",
       "      <td>demian-maia</td>\n",
       "      <td>60</td>\n",
       "    </tr>\n",
       "    <tr>\n",
       "      <td>688</td>\n",
       "      <td>nik-lentz</td>\n",
       "      <td>59</td>\n",
       "    </tr>\n",
       "    <tr>\n",
       "      <td>747</td>\n",
       "      <td>rashad-evans</td>\n",
       "      <td>53</td>\n",
       "    </tr>\n",
       "    <tr>\n",
       "      <td>192</td>\n",
       "      <td>corey-anderson</td>\n",
       "      <td>52</td>\n",
       "    </tr>\n",
       "    <tr>\n",
       "      <td>329</td>\n",
       "      <td>gray-maynard</td>\n",
       "      <td>50</td>\n",
       "    </tr>\n",
       "    <tr>\n",
       "      <td>520</td>\n",
       "      <td>khabib-nurmagomedov</td>\n",
       "      <td>49</td>\n",
       "    </tr>\n",
       "    <tr>\n",
       "      <td>187</td>\n",
       "      <td>colby-covington</td>\n",
       "      <td>48</td>\n",
       "    </tr>\n",
       "  </tbody>\n",
       "</table>\n",
       "</div>"
      ],
      "text/plain": [
       "                 Athlete  Takedowns Landed\n",
       "307        frankie-edgar                67\n",
       "182           clay-guida                63\n",
       "442      johny-hendricks                61\n",
       "239          demian-maia                60\n",
       "688            nik-lentz                59\n",
       "747         rashad-evans                53\n",
       "192       corey-anderson                52\n",
       "329         gray-maynard                50\n",
       "520  khabib-nurmagomedov                49\n",
       "187      colby-covington                48"
      ]
     },
     "execution_count": 30,
     "metadata": {},
     "output_type": "execute_result"
    }
   ],
   "source": [
    "df[['Athlete','Takedowns Landed']].sort_values(by='Takedowns Landed',ascending=False).head(10)"
   ]
  },
  {
   "cell_type": "markdown",
   "metadata": {},
   "source": [
    "#### Way of winning <a class=\"anchor\" id=\"way-of-winning\"></a>"
   ]
  },
  {
   "cell_type": "code",
   "execution_count": 31,
   "metadata": {},
   "outputs": [],
   "source": [
    "wins_by_way_df = df[['Wins by Knockout', 'Wins by Submission', 'Wins by Decision']]"
   ]
  },
  {
   "cell_type": "code",
   "execution_count": 32,
   "metadata": {},
   "outputs": [
    {
     "data": {
      "image/png": "[encoded data removed]",
      "text/plain": [
       "<Figure size 720x432 with 1 Axes>"
      ]
     },
     "metadata": {},
     "output_type": "display_data"
    }
   ],
   "source": [
    "pie, ax = plt.subplots(figsize=[10,6])\n",
    "labels = wins_by_way_df.keys()\n",
    "plt.pie(x=wins_by_way_df.sum(), autopct=\"%.1f%%\", explode=[0.05]*3, labels=labels, pctdistance=0.5)\n",
    "plt.title(\"Wins by way\", fontsize=14);"
   ]
  },
  {
   "cell_type": "markdown",
   "metadata": {},
   "source": [
    "The most wins are by KO/TKO, which means that MMA fighters have the higher risk of having CTE / Brain Damage."
   ]
  },
  {
   "cell_type": "markdown",
   "metadata": {},
   "source": [
    "This explains also the results in [Fighters age](#figters-age) section, 77% of ufc fighters are < 35 years old and that's because the chin of the fighter becomes weak after taking all that beating in his MMA career."
   ]
  }
 ],
 "metadata": {
  "kernelspec": {
   "display_name": "Python 3",
   "language": "python",
   "name": "python3"
  },
  "language_info": {
   "codemirror_mode": {
    "name": "ipython",
    "version": 3
   },
   "file_extension": ".py",
   "mimetype": "text/x-python",
   "name": "python",
   "nbconvert_exporter": "python",
   "pygments_lexer": "ipython3",
   "version": "3.7.4"
  }
 },
 "nbformat": 4,
 "nbformat_minor": 2
}
